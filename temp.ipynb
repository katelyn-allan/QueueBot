{
 "cells": [
  {
   "cell_type": "code",
   "execution_count": 25,
   "metadata": {},
   "outputs": [],
   "source": [
    "import itertools\n",
    "\n",
    "\n",
    "players = {\"tanks\": [1, 2], \"supports\": [3, 4], \"assassins\": [5, 6, 7, 8], \"offlanes\": [9, 10]}\n",
    "\n",
    "def get_team_combinations(players):\n",
    "    \"\"\"\n",
    "    Finds every combination of players by role and returns a list of unique two team combinations.\n",
    "    \"\"\"\n",
    "    combinations = []\n",
    "    for tank in players[\"tanks\"]:\n",
    "        for support in players[\"supports\"]:\n",
    "            for assassin in itertools.combinations(players[\"assassins\"], 2):\n",
    "                for offlane in players[\"offlanes\"]:\n",
    "                    combinations.append(\n",
    "                        [tank, support, assassin[0], assassin[1], offlane]\n",
    "                    )\n",
    "    two_teams = []\n",
    "    for team1 in combinations:\n",
    "        for team2 in combinations:\n",
    "            if not any(player in team2 for player in team1):\n",
    "                if [team2, team1] not in two_teams:\n",
    "                    two_teams.append([team1, team2])\n",
    "    return two_teams"
   ]
  },
  {
   "cell_type": "code",
   "execution_count": 26,
   "metadata": {},
   "outputs": [
    {
     "data": {
      "text/plain": [
       "24"
      ]
     },
     "execution_count": 26,
     "metadata": {},
     "output_type": "execute_result"
    }
   ],
   "source": [
    "teams1 = get_team_combinations(players)\n",
    "len(teams1)"
   ]
  },
  {
   "cell_type": "code",
   "execution_count": 27,
   "metadata": {},
   "outputs": [
    {
     "data": {
      "text/plain": [
       "[[[1, 3, 5, 6, 9], [2, 4, 7, 8, 10]],\n",
       " [[1, 3, 5, 6, 10], [2, 4, 7, 8, 9]],\n",
       " [[1, 3, 5, 7, 9], [2, 4, 6, 8, 10]],\n",
       " [[1, 3, 5, 7, 10], [2, 4, 6, 8, 9]],\n",
       " [[1, 3, 5, 8, 9], [2, 4, 6, 7, 10]],\n",
       " [[1, 3, 5, 8, 10], [2, 4, 6, 7, 9]],\n",
       " [[1, 3, 6, 7, 9], [2, 4, 5, 8, 10]],\n",
       " [[1, 3, 6, 7, 10], [2, 4, 5, 8, 9]],\n",
       " [[1, 3, 6, 8, 9], [2, 4, 5, 7, 10]],\n",
       " [[1, 3, 6, 8, 10], [2, 4, 5, 7, 9]],\n",
       " [[1, 3, 7, 8, 9], [2, 4, 5, 6, 10]],\n",
       " [[1, 3, 7, 8, 10], [2, 4, 5, 6, 9]],\n",
       " [[1, 4, 5, 6, 9], [2, 3, 7, 8, 10]],\n",
       " [[1, 4, 5, 6, 10], [2, 3, 7, 8, 9]],\n",
       " [[1, 4, 5, 7, 9], [2, 3, 6, 8, 10]],\n",
       " [[1, 4, 5, 7, 10], [2, 3, 6, 8, 9]],\n",
       " [[1, 4, 5, 8, 9], [2, 3, 6, 7, 10]],\n",
       " [[1, 4, 5, 8, 10], [2, 3, 6, 7, 9]],\n",
       " [[1, 4, 6, 7, 9], [2, 3, 5, 8, 10]],\n",
       " [[1, 4, 6, 7, 10], [2, 3, 5, 8, 9]],\n",
       " [[1, 4, 6, 8, 9], [2, 3, 5, 7, 10]],\n",
       " [[1, 4, 6, 8, 10], [2, 3, 5, 7, 9]],\n",
       " [[1, 4, 7, 8, 9], [2, 3, 5, 6, 10]],\n",
       " [[1, 4, 7, 8, 10], [2, 3, 5, 6, 9]]]"
      ]
     },
     "execution_count": 27,
     "metadata": {},
     "output_type": "execute_result"
    }
   ],
   "source": [
    "teams1"
   ]
  },
  {
   "cell_type": "code",
   "execution_count": 29,
   "metadata": {},
   "outputs": [],
   "source": [
    "li = [0, 1, 2, 3, 4, 5]\n",
    "new_li = []\n",
    "for i in li:\n",
    "    if i < 3:\n",
    "        continue\n",
    "    new_li.append(i)"
   ]
  },
  {
   "cell_type": "code",
   "execution_count": 30,
   "metadata": {},
   "outputs": [
    {
     "data": {
      "text/plain": [
       "[3, 4, 5]"
      ]
     },
     "execution_count": 30,
     "metadata": {},
     "output_type": "execute_result"
    }
   ],
   "source": [
    "new_li"
   ]
  },
  {
   "cell_type": "code",
   "execution_count": 2,
   "metadata": {},
   "outputs": [
    {
     "name": "stdout",
     "output_type": "stream",
     "text": [
      "True\n"
     ]
    }
   ],
   "source": [
    "dic = {\"tank\": 1, \"support\": 1, \"assassin\": 2, \"offlane\": 1}\n",
    "\n",
    "print('assassin' in dic)"
   ]
  }
 ],
 "metadata": {
  "kernelspec": {
   "display_name": "queuebot",
   "language": "python",
   "name": "python3"
  },
  "language_info": {
   "codemirror_mode": {
    "name": "ipython",
    "version": 3
   },
   "file_extension": ".py",
   "mimetype": "text/x-python",
   "name": "python",
   "nbconvert_exporter": "python",
   "pygments_lexer": "ipython3",
   "version": "3.11.1"
  },
  "orig_nbformat": 4
 },
 "nbformat": 4,
 "nbformat_minor": 2
}
